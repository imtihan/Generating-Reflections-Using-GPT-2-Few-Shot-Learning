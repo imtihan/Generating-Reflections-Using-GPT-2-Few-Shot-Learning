{
 "cells": [
  {
   "cell_type": "code",
   "execution_count": 1,
   "metadata": {},
   "outputs": [],
   "source": [
    "import pandas as pd"
   ]
  },
  {
   "cell_type": "code",
   "execution_count": 4,
   "metadata": {},
   "outputs": [],
   "source": [
    "fname='Carolynne_Cooper_gold_labelsv2.csv'\n",
    "df=pd.read_csv(fname, index_col=0)"
   ]
  },
  {
   "cell_type": "code",
   "execution_count": 5,
   "metadata": {},
   "outputs": [
    {
     "data": {
      "text/html": [
       "<div>\n",
       "<style scoped>\n",
       "    .dataframe tbody tr th:only-of-type {\n",
       "        vertical-align: middle;\n",
       "    }\n",
       "\n",
       "    .dataframe tbody tr th {\n",
       "        vertical-align: top;\n",
       "    }\n",
       "\n",
       "    .dataframe thead th {\n",
       "        text-align: right;\n",
       "    }\n",
       "</style>\n",
       "<table border=\"1\" class=\"dataframe\">\n",
       "  <thead>\n",
       "    <tr style=\"text-align: right;\">\n",
       "      <th></th>\n",
       "      <th>sample_id</th>\n",
       "      <th>num_shot</th>\n",
       "      <th>prompt</th>\n",
       "      <th>response</th>\n",
       "      <th>reflection_gpt</th>\n",
       "      <th>edited_reflections</th>\n",
       "      <th>clinician_score</th>\n",
       "      <th>edit_scores</th>\n",
       "    </tr>\n",
       "  </thead>\n",
       "  <tbody>\n",
       "    <tr>\n",
       "      <th>123</th>\n",
       "      <td>4</td>\n",
       "      <td>2</td>\n",
       "      <td>Okay, so you associate Smell as something nega...</td>\n",
       "      <td>My stepdad hates the smell of cigarettes so I...</td>\n",
       "      <td>You associate Smoking with bad smells.</td>\n",
       "      <td>You associate Smoking with bad smells.</td>\n",
       "      <td>0.0</td>\n",
       "      <td>0.0</td>\n",
       "    </tr>\n",
       "    <tr>\n",
       "      <th>124</th>\n",
       "      <td>5</td>\n",
       "      <td>2</td>\n",
       "      <td>Please describe a time where you were worried ...</td>\n",
       "      <td>When I was going to my doctor. I refrained fr...</td>\n",
       "      <td>You are afraid of being reminded by your docto...</td>\n",
       "      <td>You are afraid of being reminded by your docto...</td>\n",
       "      <td>0.4</td>\n",
       "      <td>0.4</td>\n",
       "    </tr>\n",
       "    <tr>\n",
       "      <th>125</th>\n",
       "      <td>6</td>\n",
       "      <td>2</td>\n",
       "      <td>What is good about smoking?</td>\n",
       "      <td>its more the habit of holding the cigarette a...</td>\n",
       "      <td>Smoking helps you relax and focus on what you ...</td>\n",
       "      <td>Smoking helps you relax and focus on what you ...</td>\n",
       "      <td>1.0</td>\n",
       "      <td>1.0</td>\n",
       "    </tr>\n",
       "    <tr>\n",
       "      <th>126</th>\n",
       "      <td>7</td>\n",
       "      <td>2</td>\n",
       "      <td>Sorry, I don't understand what you mean by \"it...</td>\n",
       "      <td>the rush of the tobacco is relaxing</td>\n",
       "      <td>The nicotine is addictive but not as bad as al...</td>\n",
       "      <td>The nicotine is addictive but not as bad as al...</td>\n",
       "      <td>1.0</td>\n",
       "      <td>1.0</td>\n",
       "    </tr>\n",
       "    <tr>\n",
       "      <th>127</th>\n",
       "      <td>8</td>\n",
       "      <td>2</td>\n",
       "      <td>Thank you for confirming my understanding I se...</td>\n",
       "      <td>the sheer price now is becoming very hard to pay</td>\n",
       "      <td>It's not just the cost anymore.</td>\n",
       "      <td>It's not just the cost anymore.</td>\n",
       "      <td>0.2</td>\n",
       "      <td>0.2</td>\n",
       "    </tr>\n",
       "  </tbody>\n",
       "</table>\n",
       "</div>"
      ],
      "text/plain": [
       "     sample_id  num_shot                                             prompt  \\\n",
       "123          4         2  Okay, so you associate Smell as something nega...   \n",
       "124          5         2  Please describe a time where you were worried ...   \n",
       "125          6         2                        What is good about smoking?   \n",
       "126          7         2  Sorry, I don't understand what you mean by \"it...   \n",
       "127          8         2  Thank you for confirming my understanding I se...   \n",
       "\n",
       "                                              response  \\\n",
       "123   My stepdad hates the smell of cigarettes so I...   \n",
       "124   When I was going to my doctor. I refrained fr...   \n",
       "125   its more the habit of holding the cigarette a...   \n",
       "126                the rush of the tobacco is relaxing   \n",
       "127   the sheer price now is becoming very hard to pay   \n",
       "\n",
       "                                        reflection_gpt  \\\n",
       "123            You associate Smoking with bad smells.    \n",
       "124  You are afraid of being reminded by your docto...   \n",
       "125  Smoking helps you relax and focus on what you ...   \n",
       "126  The nicotine is addictive but not as bad as al...   \n",
       "127                   It's not just the cost anymore.    \n",
       "\n",
       "                                    edited_reflections  clinician_score  \\\n",
       "123            You associate Smoking with bad smells.               0.0   \n",
       "124  You are afraid of being reminded by your docto...              0.4   \n",
       "125  Smoking helps you relax and focus on what you ...              1.0   \n",
       "126  The nicotine is addictive but not as bad as al...              1.0   \n",
       "127                   It's not just the cost anymore.               0.2   \n",
       "\n",
       "     edit_scores  \n",
       "123          0.0  \n",
       "124          0.4  \n",
       "125          1.0  \n",
       "126          1.0  \n",
       "127          0.2  "
      ]
     },
     "execution_count": 5,
     "metadata": {},
     "output_type": "execute_result"
    }
   ],
   "source": [
    "df.head()"
   ]
  },
  {
   "cell_type": "code",
   "execution_count": 12,
   "metadata": {},
   "outputs": [
    {
     "data": {
      "text/plain": [
       "(134, 8)"
      ]
     },
     "execution_count": 12,
     "metadata": {},
     "output_type": "execute_result"
    }
   ],
   "source": [
    "df[df['edit_scores'] == 0.0].shape"
   ]
  },
  {
   "cell_type": "code",
   "execution_count": 8,
   "metadata": {},
   "outputs": [
    {
     "data": {
      "text/plain": [
       "(19, 8)"
      ]
     },
     "execution_count": 8,
     "metadata": {},
     "output_type": "execute_result"
    }
   ],
   "source": [
    "df[df['edit_scores'] == 0.2].shape"
   ]
  },
  {
   "cell_type": "code",
   "execution_count": 13,
   "metadata": {},
   "outputs": [
    {
     "data": {
      "text/plain": [
       "(31, 8)"
      ]
     },
     "execution_count": 13,
     "metadata": {},
     "output_type": "execute_result"
    }
   ],
   "source": [
    "df[df['edit_scores'] == 0.4].shape"
   ]
  },
  {
   "cell_type": "code",
   "execution_count": 14,
   "metadata": {},
   "outputs": [
    {
     "data": {
      "text/plain": [
       "(15, 8)"
      ]
     },
     "execution_count": 14,
     "metadata": {},
     "output_type": "execute_result"
    }
   ],
   "source": [
    "df[df['edit_scores'] == 0.6].shape"
   ]
  },
  {
   "cell_type": "code",
   "execution_count": 15,
   "metadata": {},
   "outputs": [
    {
     "data": {
      "text/plain": [
       "(20, 8)"
      ]
     },
     "execution_count": 15,
     "metadata": {},
     "output_type": "execute_result"
    }
   ],
   "source": [
    "df[df['edit_scores'] == 0.8].shape"
   ]
  },
  {
   "cell_type": "code",
   "execution_count": 17,
   "metadata": {},
   "outputs": [],
   "source": [
    "df['reflection']=df['edited_reflections']"
   ]
  },
  {
   "cell_type": "code",
   "execution_count": 18,
   "metadata": {},
   "outputs": [],
   "source": [
    "df.to_csv('golden_primers.csv')"
   ]
  },
  {
   "cell_type": "code",
   "execution_count": null,
   "metadata": {},
   "outputs": [],
   "source": []
  }
 ],
 "metadata": {
  "kernelspec": {
   "display_name": "tf2",
   "language": "python",
   "name": "tf2"
  },
  "language_info": {
   "codemirror_mode": {
    "name": "ipython",
    "version": 3
   },
   "file_extension": ".py",
   "mimetype": "text/x-python",
   "name": "python",
   "nbconvert_exporter": "python",
   "pygments_lexer": "ipython3",
   "version": "3.8.5"
  }
 },
 "nbformat": 4,
 "nbformat_minor": 4
}
